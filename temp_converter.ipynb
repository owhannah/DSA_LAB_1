{
 "cells": [
  {
   "cell_type": "code",
   "execution_count": null,
   "metadata": {},
   "outputs": [],
   "source": [
    "# convert celcius to fahrenheit\n",
    "def celcius_to_fahrenheit(celcius):\n",
    "    return (celcius * 9/5) + 32\n",
    "\n",
    "# convert fahrenheit to celcius\n",
    "def fahrenheit_to_celcius(fahrenheit):\n",
    "    return (fahrenheit -32) * 5/9\n",
    "\n",
    "# main\n",
    "temperature = float(input(\"Enter the temperature: \"))\n",
    "conversion = input(\"Convert to (F)ahrenheit or (C)elcius? \").upper()\n",
    "\n",
    "if conversion == \"F\":\n",
    "    print(f\"{temperature}°C is equal to {celcius_to_fahrenheit(temperature):.2f}°F.\")\n",
    "elif conversion == \"C\":\n",
    "    print(f\"{temperature}°F is equal to {fahrenheit_to_celcius(temperature):.2f}°C\")\n",
    "else: \n",
    "    print(\"Invalid choice. Choose between 'F' or 'C'\")"
   ]
  }
 ],
 "metadata": {
  "kernelspec": {
   "display_name": "Python 3 (ipykernel)",
   "language": "python",
   "name": "python3"
  },
  "language_info": {
   "codemirror_mode": {
    "name": "ipython",
    "version": 3
   },
   "file_extension": ".py",
   "mimetype": "text/x-python",
   "name": "python",
   "nbconvert_exporter": "python",
   "pygments_lexer": "ipython3",
   "version": "3.12.5"
  }
 },
 "nbformat": 4,
 "nbformat_minor": 4
}
