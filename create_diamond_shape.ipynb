{
 "cells": [
  {
   "cell_type": "code",
   "execution_count": 13,
   "metadata": {},
   "outputs": [
    {
     "name": "stdout",
     "output_type": "stream",
     "text": [
      "  *\n",
      " ***\n",
      "*****\n",
      " ***\n",
      "  *\n"
     ]
    }
   ],
   "source": [
    "# create a diamond\n",
    "\n",
    "def print_diamond(n):\n",
    "    # check if the input is an odd integer\n",
    "    if n % 2 == 0:\n",
    "        return \"Please provide an odd integer.\"\n",
    "    \n",
    "    # lets print the upper part of the diamond\n",
    "    for i in range(n // 2 + 1):\n",
    "        print(\" \" * (n // 2 - i) + \"*\" * (2 * i + 1))\n",
    "    \n",
    "    # lets print the lower part of the diamond\n",
    "    for i in range(n // 2 - 1, -1, -1):\n",
    "        print(\" \" * (n // 2 - i) + \"*\" * (2 * i + 1))\n",
    "\n",
    "# example usage\n",
    "print_diamond(5)\n",
    "\n",
    "        \n",
    "     "
   ]
  },
  {
   "cell_type": "code",
   "execution_count": null,
   "metadata": {},
   "outputs": [],
   "source": []
  }
 ],
 "metadata": {
  "kernelspec": {
   "display_name": "Python 3 (ipykernel)",
   "language": "python",
   "name": "python3"
  },
  "language_info": {
   "codemirror_mode": {
    "name": "ipython",
    "version": 3
   },
   "file_extension": ".py",
   "mimetype": "text/x-python",
   "name": "python",
   "nbconvert_exporter": "python",
   "pygments_lexer": "ipython3",
   "version": "3.12.5"
  }
 },
 "nbformat": 4,
 "nbformat_minor": 4
}
