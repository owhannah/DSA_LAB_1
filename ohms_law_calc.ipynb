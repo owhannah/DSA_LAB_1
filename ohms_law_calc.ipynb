{
 "cells": [
  {
   "cell_type": "code",
   "execution_count": 1,
   "metadata": {},
   "outputs": [
    {
     "name": "stdout",
     "output_type": "stream",
     "text": [
      "Voltage (V) = 12.0 volts\n"
     ]
    }
   ],
   "source": [
    "# ohms law calc\n",
    "# ohms law: V= I * R\n",
    "\n",
    "# main\n",
    "choice = input(\"Calculate (V)oltage, (I)urrent, or (R)esistance? \").upper()\n",
    "\n",
    "if choice == \"V\":\n",
    "    I = float(input(\"Enter current (I): \"))\n",
    "    R = float(input(\"Enter resistance (R): \"))\n",
    "    print(f\"Voltage (V) = {I * R} volts\")\n",
    "elif choice == \"I\":\n",
    "    V = float(input(\"Enter voltage (V): \"))\n",
    "    I = float(input(\"Enter current (I): \"))\n",
    "    print(f\"Resistance (R) = {V / I if I != 0 else 'Error: Current cannot be zero'} amperes.\")\n",
    "    \n",
    "else: \n",
    "    print(\"Invalid choice. Please choose between V, I, or R only.\")"
   ]
  }
 ],
 "metadata": {
  "kernelspec": {
   "display_name": "Python 3",
   "language": "python",
   "name": "python3"
  },
  "language_info": {
   "codemirror_mode": {
    "name": "ipython",
    "version": 3
   },
   "file_extension": ".py",
   "mimetype": "text/x-python",
   "name": "python",
   "nbconvert_exporter": "python",
   "pygments_lexer": "ipython3",
   "version": "3.12.1"
  }
 },
 "nbformat": 4,
 "nbformat_minor": 2
}
